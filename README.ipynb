{
 "cells": [
  {
   "cell_type": "markdown",
   "id": "b8f13321",
   "metadata": {},
   "source": [
    "### <center><b>Integrating Near-Infrared Hyperspectral Imaging with Machine Learning and Feature Selection: Detecting Adulteration of Extra-Virgin Olive Oil with Lower-Grade Olive Oils and Hazelnut Oil</center> </b>"
   ]
  },
  {
   "cell_type": "markdown",
   "id": "74999200",
   "metadata": {},
   "source": [
    "### Project Overview\n",
    "\n",
    "Detecting adulteration in extra-virgin olive oil (EVOO) is challenging, particularly when adulterants have similar chemical compositions. This project applies near-infrared hyperspectral imaging (NIR-HSI) and machine learning (ML) techniques to detect EVOO adulteration with hazelnut oil, refined olive oil, and olive pomace oil across a range of concentrations (1%, 5%, 10%, 20%, 40%, and 100% m/m)."
   ]
  },
  {
   "cell_type": "markdown",
   "id": "42b05bec",
   "metadata": {},
   "source": [
    "### Methodology\n",
    "\n",
    "The study leverages advanced spectral data preprocessing and machine learning methods to achieve high accuracy in identifying adulterated EVOO samples. The workflow includes:\n",
    "\n",
    "#### Spectral Data Preprocessing: Various techniques, including:\n",
    "\n",
    "- Savitzky-Golay filtering\n",
    "- First and second derivatives\n",
    "- Multiplicative scatter correction (MSC)\n",
    "- Standard normal variate (SNV)\n",
    "- Combinations of these techniques for optimal preprocessing.\n",
    "- Dimensionality Reduction: Principal Component Analysis (PCA) reduces data dimensionality, facilitating model training.\n",
    "\n",
    "#### Classification Models: Several ML models were used, including:\n",
    "\n",
    "- Partial Least Squares-Discriminant Analysis (PLS-DA)\n",
    "- k-Nearest Neighbors (k-NN)\n",
    "- Naïve Bayes (NB)\n",
    "- Random Forest (RF)\n",
    "- Support Vector Machine (SVM)\n",
    "- Artificial Neural Networks (ANN)"
   ]
  },
  {
   "cell_type": "markdown",
   "id": "2247b2b2",
   "metadata": {},
   "source": [
    "### Key Results\n",
    "\n",
    "Model Performance: The models achieved impressive accuracy rates in classifying oils as pure EVOO, oil adulterants or adulterated olive oil:\n",
    "\n",
    "- PLS-DA: 97.0-99.0%\n",
    "- k-NN: 96.2-100%\n",
    "- RF: 96.5-100%\n",
    "- SVM: 98.6-99.5%\n",
    "- NB: 93.9-99.7%\n",
    "- ANN: 99.2-100%\n",
    "\n",
    "- `Binary Classification`: PLS-DA, RF, SVM, and ANN outperformed Naïve Bayes (p < 0.05) in distinguishing pure EVOO from adulterated oils, with Matthews correlation coefficient (MCC) values > 0.90.\n",
    "\n",
    "- `Optimal Preprocessing`: Most classifiers, combined with SNV/MSC, Savitzky-Golay smoothing, and derivatives, achieved perfect accuracy, sensitivity, specificity, F1 score, precision, and MCC in binary classification tasks.\n",
    "\n",
    "- `Variable Selection`: There were no significant differences in model performance between full spectra and selected key variables, though PLS-DA and ANN achieved higher performance (p < 0.05)."
   ]
  },
  {
   "cell_type": "markdown",
   "id": "99cf8619",
   "metadata": {},
   "source": [
    "### Conclusion\n",
    "\n",
    "Combining NIR-HSI with machine learning offers an effective, non-destructive solution for detecting EVOO adulteration, potentially aiding in fraud prevention within the olive oil industry."
   ]
  },
  {
   "cell_type": "code",
   "execution_count": null,
   "id": "a6f437e7",
   "metadata": {},
   "outputs": [],
   "source": []
  }
 ],
 "metadata": {
  "kernelspec": {
   "display_name": "Python 3 (ipykernel)",
   "language": "python",
   "name": "python3"
  },
  "language_info": {
   "codemirror_mode": {
    "name": "ipython",
    "version": 3
   },
   "file_extension": ".py",
   "mimetype": "text/x-python",
   "name": "python",
   "nbconvert_exporter": "python",
   "pygments_lexer": "ipython3",
   "version": "3.11.5"
  }
 },
 "nbformat": 4,
 "nbformat_minor": 5
}
